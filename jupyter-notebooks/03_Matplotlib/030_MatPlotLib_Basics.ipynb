{
 "cells": [
  {
   "cell_type": "markdown",
   "metadata": {},
   "source": [
    "# MatPlotLib bezetezés\n",
    "A Matplotlib nevű csomag talán a legáltalánosabban használt diagram készítő megoldás Python-hoz.\n",
    "Telepítése a következő paranncsel történhet:\n",
    "> pip install matplotlib"
   ]
  },
  {
   "cell_type": "markdown",
   "metadata": {},
   "source": [
    "## 1. Importálás és egyszerű plot készítés \n",
    "A matplotlib csomag pyplot modulja jó kiindulás lehet képek készítéséhez, azt a következő módon szokás importálni:"
   ]
  },
  {
   "cell_type": "code",
   "execution_count": null,
   "metadata": {},
   "outputs": [],
   "source": [
    "import matplotlib.pyplot as plt\n",
    "# same as:\n",
    "# from matplotlib import pyplot as plt"
   ]
  },
  {
   "cell_type": "markdown",
   "metadata": {},
   "source": [
    "A legegyszerűbb plot amit készíthetünk a `plt.plot()` függvénny egyszerű meghívásával."
   ]
  },
  {
   "cell_type": "code",
   "execution_count": null,
   "metadata": {},
   "outputs": [],
   "source": [
    "xData = [0,1,2,3,4,5]\n",
    "yData = [0,1,4,9,16,25]\n",
    "plt.plot(xData, yData)\n",
    "plt.show()"
   ]
  },
  {
   "cell_type": "code",
   "execution_count": null,
   "metadata": {
    "scrolled": true
   },
   "outputs": [],
   "source": [
    "help(plt.plot)"
   ]
  },
  {
   "cell_type": "markdown",
   "metadata": {},
   "source": [
    "Ugyan ez Jupyter notebookin kívül is működik.\n",
    "Ott egy interaktív ablakot kapunk, amiben pl lehet zoomolni, és a beállított nézetet akár el is menthetjük."
   ]
  },
  {
   "cell_type": "markdown",
   "metadata": {},
   "source": [
    "### Több adatsorral és némi formázással:\n",
    "Ha több adatsort szeretnénk rátenni ugyanarra a diagramra, a legegyszerűbb a `plt.plot()` függvényt többször meghívni. Ez egymás után pakolja rá a diagramra a görbéket. Külön formázást és címkét is adhatunk minden új görbénkhez. A jelmagyarázatot `a plt.legend()` paranccsal kapcsoljuk be.\n",
    "\n",
    "A cím és tengelyfeliratok beállítására szolgáló függvények nevei jól leírják, hogy mire használhatóak."
   ]
  },
  {
   "cell_type": "code",
   "execution_count": null,
   "metadata": {},
   "outputs": [],
   "source": [
    "plt.plot(xData, yData, label = 'Adatsor 1', color = 'red', linestyle = '--')\n",
    "plt.plot(xData, yData[::-1], label = 'Adatsor 2', color = 'blue', linewidth = 2)\n",
    "\n",
    "plt.xlabel('x-axis')\n",
    "plt.ylabel('y-axis')\n",
    "plt.title('Plot with some style')\n",
    "\n",
    "plt.legend()\n",
    "\n",
    "plt.show()"
   ]
  },
  {
   "cell_type": "markdown",
   "metadata": {},
   "source": [
    "### Sub-plotok\n",
    "Leggyorsabban így készíthetünk sub-plotokat, de ezeknek az átláthatóbb használatáról később lesz szó"
   ]
  },
  {
   "cell_type": "code",
   "execution_count": null,
   "metadata": {},
   "outputs": [],
   "source": [
    "# plt.subplot(sorokSzáma, OszlopokSzáma, plotSzáma)\n",
    "plt.subplot(1,2,1)\n",
    "plt.plot(xData, yData, 'r--') # More on color options later\n",
    "plt.subplot(1,2,2)\n",
    "plt.plot(yData, xData, 'g*-');"
   ]
  },
  {
   "cell_type": "markdown",
   "metadata": {},
   "source": [
    "## 2. Hogyan épül fel egy plot?"
   ]
  },
  {
   "cell_type": "markdown",
   "metadata": {},
   "source": [
    "Mielőtt rátérünk a konkrét plot-típusok és beállításaik megismerésére, szerintem hasznos megérteni, hogy hogyan is épül fel egy maplotlib-ben készült diagram. A fogalmakat sokszor angolul fogom használni részben az egyszerűség kedvéért, részben pedig mert így fogtok tudni rákeresni.\n",
    "\n",
    "A 2 fő fogalom amit használni fogunk:\n",
    " * Figure\n",
    " * Axes (subplots)\n",
    " \n",
    "Ezek kifejezetten akkor kerülnek elő, ha az \"objektum orientált\" módon készítjük a plotokat, amit én mindenképpen ajánlok. A fenti példákban az egyszerűbb verziót használtam, a plt.plot() függvény meghívásával, de ez a módszer inkább csak gyors megjelenítéshez ajánlott."
   ]
  },
  {
   "cell_type": "markdown",
   "metadata": {},
   "source": [
    "### Objektum orientált plottolás\n",
    "\n",
    "1. Figure létrehozása - \"üres rajzlap\"\n",
    "2. Axes (tengelypár) hozzáadása\n",
    "3. plottolás: itt már a tengelyekre!!"
   ]
  },
  {
   "cell_type": "code",
   "execution_count": null,
   "metadata": {},
   "outputs": [],
   "source": [
    "# Create Figure (empty canvas)\n",
    "fig = plt.figure()\n",
    "\n",
    "# Add set of axes to figure\n",
    "axes = fig.add_axes([0.1, 0.1, 0.8, 0.8]) # left, bottom, width, height (range 0 to 1)"
   ]
  },
  {
   "cell_type": "code",
   "execution_count": null,
   "metadata": {},
   "outputs": [],
   "source": [
    "# Create Figure (empty canvas)\n",
    "fig = plt.figure()\n",
    "\n",
    "# Add set of axes to figure\n",
    "axes = fig.add_axes([0.1, 0.1, 0.8, 0.8]) # left, bottom, width, height (range 0 to 1)\n",
    "\n",
    "# Plot on that set of axes\n",
    "axes.plot(xData, yData, color='b')\n",
    "axes.set_xlabel('My X Label') # Notice the use of set_ to begin methods\n",
    "axes.set_ylabel('My y Label')\n",
    "axes.set_title('My Title')"
   ]
  },
  {
   "cell_type": "markdown",
   "metadata": {},
   "source": [
    "Egy Figure objektumra több tengelypár is adható, ezek akár átfedésben is lehetnek."
   ]
  },
  {
   "cell_type": "code",
   "execution_count": null,
   "metadata": {},
   "outputs": [],
   "source": [
    "# Creates blank canvas\n",
    "fig = plt.figure()\n",
    "\n",
    "axes1 = fig.add_axes([0.1, 0.1, 0.8, 0.8]) # main axes\n",
    "axes2 = fig.add_axes([0.2, 0.5, 0.4, 0.3]) # inset axes\n",
    "\n",
    "# Larger Figure Axes 1\n",
    "axes1.plot(xData, yData, 'b')\n",
    "axes1.set_xlabel('X_label_axes2')\n",
    "axes1.set_ylabel('Y_label_axes2')\n",
    "axes1.set_title('Axes 2 Title')\n",
    "\n",
    "# Insert Figure Axes 2\n",
    "axes2.plot(yData, xData, 'r')\n",
    "axes2.set_xlabel('X_label_axes2')\n",
    "axes2.set_ylabel('Y_label_axes2')\n",
    "axes2.set_title('Axes 2 Title');"
   ]
  },
  {
   "cell_type": "markdown",
   "metadata": {},
   "source": [
    "### Subplots\n",
    "A tengelypárok manulis létrahozása nagy szabadságot ad, de nem a legkényelmesebb, és általában nincs is szükség erre a szabadsága.\n",
    "Az esetek nagy részében vagy egy plotot szeretnénk, vagy szépen egymás mellé rendezett subplotokat. Ezekre találták ki a `plt.subplots()` fügvényt.\n",
    "\n",
    "Meghívásakor egyszerre tér vissza a figure objektummal, illetve a tengelypárral, vagy azok listájával.\n",
    "    \n",
    "    fig, ax = plt.subplots()\n",
    "    fig, axes = plt.subplots(2,2)"
   ]
  },
  {
   "cell_type": "code",
   "execution_count": null,
   "metadata": {},
   "outputs": [],
   "source": [
    "# Empty canvas of 1 by 2 subplots\n",
    "fig, axes = plt.subplots(nrows=1, ncols=2)"
   ]
  },
  {
   "cell_type": "code",
   "execution_count": null,
   "metadata": {},
   "outputs": [],
   "source": [
    "axes  # axes is an array of axes to plot on"
   ]
  },
  {
   "cell_type": "code",
   "execution_count": null,
   "metadata": {},
   "outputs": [],
   "source": [
    "# Iterate on the axes and add curve\n",
    "for ax in axes:\n",
    "    ax.plot(xData, yData, 'b')\n",
    "    ax.set_xlabel('x')\n",
    "    ax.set_ylabel('y')\n",
    "    ax.set_title('title')\n",
    "\n",
    "# Display the figure object    \n",
    "fig"
   ]
  },
  {
   "cell_type": "markdown",
   "metadata": {},
   "source": [
    "Gyakori hiba az automatikusan létrhozott subplotoknák, hogy a feliratok és a tengelyek átfedésban vannak. Ennek a problémának a kezelésésre van saját matplotlib függvény, amit a plot létrhozásának a végén érdemes kiadni:\n",
    "\n",
    "    plt.tight_layout()\n",
    "    \n",
    "Ezzel minden felirat és axes úgy lesz igazítva, hogy ne legyen átfedések, de jól kitöltse a rendelkezésre álló területet."
   ]
  },
  {
   "cell_type": "code",
   "execution_count": null,
   "metadata": {},
   "outputs": [],
   "source": [
    "fig, axes = plt.subplots(nrows=1, ncols=2)\n",
    "\n",
    "for ax in axes:\n",
    "    ax.plot(xData, yData, 'g')\n",
    "    ax.set_xlabel('x')\n",
    "    ax.set_ylabel('y')\n",
    "    ax.set_title('title')\n",
    "\n",
    "fig    \n",
    "plt.tight_layout()"
   ]
  },
  {
   "cell_type": "markdown",
   "metadata": {},
   "source": [
    "### Képméret és felbontás\n",
    "A figure létrehozásakor sok más egyéb beállítás is megadható, amik a help-ből könnyen megérthetőek, itt csak egy pár fontosabbat mutatok meg.\n",
    "A defualt értékek az alábbi módon alakulnak:\n",
    "    \n",
    "    plt.figure(num=None, figsize=None, dpi=None, facecolor=None, edgecolor=None, frameon=True, FigureClass=<class 'matplotlib.figure.Figure'>, clear=False, **kwargs)\n",
    "    \n",
    "    plt.subplots(nrows=1, ncols=1, sharex=False, sharey=False, squeeze=True, subplot_kw=None, gridspec_kw=None, **fig_kw)\n",
    "    \n",
    "A `plt.figure()` függvénynél a **figsize** és a **dpi** opciókat emelném ki, a `plt.subplots()`-nál pedig látszik, hogy a összes figure keyword elfogadott(fig_kw), ehhez jönnek hozzá a rá speciálisan jellemzők, például a **nrows, ncols, sharex** és **sharey**.\n"
   ]
  },
  {
   "cell_type": "code",
   "execution_count": null,
   "metadata": {},
   "outputs": [],
   "source": [
    "fig, axes = plt.subplots(figsize=(12,3))\n",
    "\n",
    "axes.plot(xData, yData, 'r')"
   ]
  },
  {
   "cell_type": "code",
   "execution_count": null,
   "metadata": {},
   "outputs": [],
   "source": [
    "fig = plt.figure(figsize=(8,4), dpi=100)"
   ]
  },
  {
   "cell_type": "markdown",
   "metadata": {},
   "source": [
    "## 3. Plotok egyszerű formázása\n",
    "\n",
    "Azt már láttuk, hogy hogyan kell adatokat elhelyezni egy egyszerű ploton, de nézzünk meg néhány fontos formázási beállítást is."
   ]
  },
  {
   "cell_type": "markdown",
   "metadata": {},
   "source": [
    "### Feliratok\n",
    "Szinte minden plotról elengedhetetlen az alábbi három információ:\n",
    " * Cím\n",
    " * Tengelyfeliratok\n",
    " * Jelmagyarázat"
   ]
  },
  {
   "cell_type": "code",
   "execution_count": null,
   "metadata": {},
   "outputs": [],
   "source": [
    "import numpy as np\n",
    "x = np.linspace(0, 5, 11)"
   ]
  },
  {
   "cell_type": "code",
   "execution_count": null,
   "metadata": {},
   "outputs": [],
   "source": [
    "fig, ax = plt.subplots()\n",
    "\n",
    "# Add data with labels\n",
    "ax.plot(x, x**2, label=\"x**2\")\n",
    "ax.plot(x, x**3, label=\"x**3\")\n",
    "\n",
    "# Set title\n",
    "ax.set_title(\"title\")\n",
    "\n",
    "# Set axis labels\n",
    "ax.set_xlabel(\"x\")\n",
    "ax.set_ylabel(\"y\")\n",
    "\n",
    "# Visualize legends\n",
    "ax.legend()"
   ]
  },
  {
   "cell_type": "markdown",
   "metadata": {},
   "source": [
    "A jelmagarázat pozícióját automatikusan megróbálja úgy elhelyezni, hogy a lehető legkevesebb adatot takarjon ki, de az felül is írhtó a *loc* paraméterrel:\n",
    "\n",
    "    ax.legend(loc=\"lower left\")\n",
    "    \n",
    "A *loc* paraméter lehetséges értékei:\n",
    "\n",
    "    'best'\n",
    "    'upper right'\n",
    "    'upper left'\n",
    "    'lower left'\n",
    "    'lower right'\n",
    "    'right'\n",
    "    'center left'\n",
    "    'center right'\n",
    "    'lower center'\n",
    "    'upper center'\n",
    "    'center'"
   ]
  },
  {
   "cell_type": "code",
   "execution_count": null,
   "metadata": {},
   "outputs": [],
   "source": [
    "fig, ax = plt.subplots()\n",
    "\n",
    "# Add data with labels\n",
    "ax.plot(x, x**2, label=\"x**2\")\n",
    "ax.plot(x, x**3, label=\"x**3\")\n",
    "\n",
    "# Set title\n",
    "ax.set_title(\"title\");\n",
    "\n",
    "# Set axis labels\n",
    "ax.set_xlabel(\"x\")\n",
    "ax.set_ylabel(\"y\");\n",
    "\n",
    "# Visualize legends\n",
    "ax.legend(loc=\"center\")"
   ]
  },
  {
   "cell_type": "markdown",
   "metadata": {},
   "source": [
    "### Színek és stílusok\n",
    "Ha valaki sokat használta a MATLAB-ot, akkor az onnan ismerős fomázási stílus is használható, de a jobb olvashatóság érdekében érdemes rendesen kiírni a formázási paramétereket."
   ]
  },
  {
   "cell_type": "code",
   "execution_count": null,
   "metadata": {},
   "outputs": [],
   "source": [
    "# MATLAB style line color and style \n",
    "fig, ax = plt.subplots()\n",
    "ax.plot(x, x**2, 'b.-') # blue line with dots\n",
    "ax.plot(x, x**3, 'g--') # green dashed line\n",
    "\n",
    "# https://matplotlib.org/stable/api/_as_gen/matplotlib.pyplot.plot.html"
   ]
  },
  {
   "cell_type": "markdown",
   "metadata": {},
   "source": [
    "Az alábbi ploton sok fomázás látható egyszerre:\n",
    " * linewidth (lw)\n",
    " * color (c)\n",
    " * linestyle (ls)\n",
    " * marker (m)\n",
    " \n",
    " Ezek kombinációjából elég jól elkülönülő görbék állíthatók be."
   ]
  },
  {
   "cell_type": "code",
   "execution_count": null,
   "metadata": {},
   "outputs": [],
   "source": [
    "fig, ax = plt.subplots(figsize=(12,6))\n",
    "\n",
    "ax.plot(x, x+1, color=\"red\", linewidth=0.25)\n",
    "ax.plot(x, x+2, color=\"red\", linewidth=0.50)\n",
    "ax.plot(x, x+3, color=\"red\", linewidth=1.00)\n",
    "ax.plot(x, x+4, color=\"red\", linewidth=2.00)\n",
    "\n",
    "# possible linestype options ‘-‘, ‘–’, ‘-.’, ‘:’, ‘steps’\n",
    "ax.plot(x, x+5, color=\"green\", lw=3, linestyle='-')\n",
    "ax.plot(x, x+6, color=\"green\", lw=3, ls='-.')\n",
    "ax.plot(x, x+7, color=\"green\", lw=3, ls=':')\n",
    "\n",
    "# custom dash\n",
    "line, = ax.plot(x, x+8, color=\"black\", lw=1.50)\n",
    "line.set_dashes([5, 10, 15, 10]) # format: line length, space length, ...\n",
    "\n",
    "# possible marker symbols: marker = '+', 'o', '*', 's', ',', '.', '1', '2', '3', '4', ...\n",
    "ax.plot(x, x+ 9, color=\"#0000FF\", lw=3, ls='-', marker='+')\n",
    "ax.plot(x, x+10, color=\"#0000FF\", lw=3, ls='--', marker='o')\n",
    "ax.plot(x, x+11, color=\"#0000FF\", lw=3, ls='-', marker='s')\n",
    "ax.plot(x, x+12, color=\"#0000FF\", lw=3, ls='--', marker='1')\n",
    "\n",
    "# marker size and color\n",
    "ax.plot(x, x+13, color=\"purple\", lw=1, ls='-', marker='o', markersize=2)\n",
    "ax.plot(x, x+14, color=\"purple\", lw=1, ls='-', marker='o', markersize=4)\n",
    "ax.plot(x, x+15, color=\"purple\", lw=1, ls='-', marker='o', markersize=8, markerfacecolor=\"red\")\n",
    "ax.plot(x, x+16, color=\"purple\", lw=1, ls='-', marker='s', markersize=8, \n",
    "        markerfacecolor=\"yellow\", markeredgewidth=3, markeredgecolor=\"green\");"
   ]
  },
  {
   "cell_type": "markdown",
   "metadata": {},
   "source": [
    "### Plot range\n",
    "\n",
    "Az eredmények megjelenítésekor sokszor fontos ráközelíteni a görbe egy adott szakaszára. Ezt a tengelyek range-eiinek beállításával érhetjük el: `ax.set_ylim()` és `ax.set_xlim()` függvényekkel."
   ]
  },
  {
   "cell_type": "code",
   "execution_count": null,
   "metadata": {},
   "outputs": [],
   "source": [
    "fig, axes = plt.subplots(1, 2, figsize=(12, 4))\n",
    "\n",
    "axes[0].scatter(x, np.sin(x))\n",
    "axes[0].set_title(\"default axes ranges\")\n",
    "\n",
    "axes[1].scatter(x, np.sin(x))\n",
    "axes[1].set_ylim([0.5, 1.1])\n",
    "axes[1].set_xlim([0.9, 2.6])\n",
    "axes[1].set_title(\"custom axes range\");"
   ]
  },
  {
   "cell_type": "markdown",
   "metadata": {},
   "source": [
    "## 4. Plotok mentése\n",
    "Az elkészített plotot termésteresen az esetlek nagy részében valahol máshol szeretnénk megmutatni, például egy jelentésben, ezért ezeket érdemes elmenteni. Az itt használt függvény:\n",
    "    \n",
    "    fig.savefig()"
   ]
  },
  {
   "cell_type": "code",
   "execution_count": null,
   "metadata": {},
   "outputs": [],
   "source": [
    "fig.savefig('myPicture.png')"
   ]
  },
  {
   "cell_type": "code",
   "execution_count": null,
   "metadata": {},
   "outputs": [],
   "source": [
    "fig.savefig(\"myPicture_HiRes.png\", dpi=500) # quality can be set here as well"
   ]
  },
  {
   "cell_type": "markdown",
   "metadata": {},
   "source": [
    "## Áttetintés"
   ]
  },
  {
   "cell_type": "markdown",
   "metadata": {},
   "source": [
    "![title](src/anatomy1.webp)"
   ]
  },
  {
   "cell_type": "markdown",
   "metadata": {},
   "source": [
    "## Egy kis emlékeztető\n",
    "https://github.com/matplotlib/cheatsheets#cheatsheets"
   ]
  },
  {
   "cell_type": "code",
   "execution_count": null,
   "metadata": {},
   "outputs": [],
   "source": []
  }
 ],
 "metadata": {
  "kernelspec": {
   "display_name": "Python 3",
   "language": "python",
   "name": "python3"
  },
  "language_info": {
   "codemirror_mode": {
    "name": "ipython",
    "version": 3
   },
   "file_extension": ".py",
   "mimetype": "text/x-python",
   "name": "python",
   "nbconvert_exporter": "python",
   "pygments_lexer": "ipython3",
   "version": "3.7.2"
  }
 },
 "nbformat": 4,
 "nbformat_minor": 2
}
