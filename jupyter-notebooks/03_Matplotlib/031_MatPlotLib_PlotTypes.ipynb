{
 "cells": [
  {
   "cell_type": "markdown",
   "metadata": {},
   "source": [
    "# MatPlotLib plot típusok\n",
    "Az alapok átnézése után nézzünk meg egy néhány másik plot típust is.\n",
    "A megfelelő plot típus kiválasztása az egyik legfontosabb lépés a plot elkészítésésnél, hiszen rengeteg nagyon jó formátum létezik, viszont mindegyiknek más az erőssége.\n",
    "\n",
    "Ha nem tudjuk, hogy mivel induljunk inspirációnak ajánlom a következő oldalt:\n",
    "\n",
    "https://matplotlib.org/stable/gallery/index.html\n",
    "\n",
    "Ebben a Notebookban a leggyakrabban használt plot típusokon megyünk végig egy pár hasznos beállításukkal, de fenti linken minden verzióra található egy egyszerű példa, amiből ki lehet indulni."
   ]
  },
  {
   "cell_type": "code",
   "execution_count": null,
   "metadata": {},
   "outputs": [],
   "source": [
    "import matplotlib.pyplot as plt\n",
    "import numpy as np"
   ]
  },
  {
   "cell_type": "markdown",
   "metadata": {},
   "source": [
    "## Bar plot\n",
    "Az oszlopdiagramot valószínűleg senkinek nem kell bemutatnom, és természetesen matplotlibben is megtalálható."
   ]
  },
  {
   "cell_type": "code",
   "execution_count": null,
   "metadata": {},
   "outputs": [],
   "source": [
    "caeSzabi21 = {'Január':20, 'Február':10, 'Március': 2, 'Április':4, 'Május':8, 'Június':22, 'Július':50, 'Augusztus':72, 'Szeptember':25}\n",
    "honapok = list(caeSzabi21.keys())\n",
    "szabik = list(caeSzabi21.values())"
   ]
  },
  {
   "cell_type": "code",
   "execution_count": null,
   "metadata": {},
   "outputs": [],
   "source": [
    "plt.bar(honapok, szabik)"
   ]
  },
  {
   "cell_type": "code",
   "execution_count": null,
   "metadata": {},
   "outputs": [],
   "source": [
    "plt.bar(honapok, szabik)\n",
    "plt.tight_layout()\n",
    "plt.show()"
   ]
  },
  {
   "cell_type": "code",
   "execution_count": null,
   "metadata": {},
   "outputs": [],
   "source": [
    "fig, ax = plt.subplots()\n",
    "ax.bar(honapok, szabik, color='C1')\n",
    "ax.set_title(\"FEM szabik 2021-ben\", color='C0')\n",
    "ax.set_ylabel(\"Kivett szabadnapok száma\", color='C0')\n",
    "# Rotate ticks\n",
    "plt.xticks(rotation = 90)\n",
    "# Add labeling\n",
    "for i, v in enumerate(szabik):\n",
    "    ax.text(i, v + -5, str(v), color='C0', fontweight='bold', ha='center', va='bottom')\n",
    "# Auto labeling added from matplotlib verison 3.4 (see ax.bar_label())\n",
    "plt.tight_layout()"
   ]
  },
  {
   "cell_type": "markdown",
   "metadata": {},
   "source": [
    "Oszlopdiagrammoknál sokszor szeretnénk az adatokat tovább csoportosítani, hogy két adatsor egymáshoz képesti viszonyát vizsgáljuk.\n",
    "Ennek a Megoldása MatPlotLibben valamivel komplikáltabb, mint ahogy annak lennie kellene, de természetesen ez is megoldható.\n",
    "A trükk az, hogy az oszlopokat kézzel kicsit el kell tolni egymáshoz képest az X tengelyen, illetve a szélességüket is megfeleő módon be kell állítani.\n",
    "### Adatok beolvasása"
   ]
  },
  {
   "cell_type": "code",
   "execution_count": null,
   "metadata": {},
   "outputs": [],
   "source": [
    "import csv\n",
    "from os.path import join\n",
    "with open(join('src','CAEszabi.csv')) as szabiFile:\n",
    "    szabireader = csv.reader(szabiFile, delimiter=';')\n",
    "    for row in szabireader:\n",
    "        print(', '.join(row))"
   ]
  },
  {
   "cell_type": "code",
   "execution_count": null,
   "metadata": {},
   "outputs": [],
   "source": [
    "from collections import defaultdict\n",
    "\n",
    "szabiData = defaultdict(list)\n",
    "months = []\n",
    "with open('src/CAEszabi.csv') as szabiFile:\n",
    "    szabireader = csv.DictReader(szabiFile, delimiter=';')\n",
    "    for row in szabireader:\n",
    "#         print(row)\n",
    "        for group in ['FEM', 'BMW', 'COMP', 'ADMIN', 'SUM']:\n",
    "            szabiData[group].append(int(row[group]))\n",
    "        months.append(row['Month'])\n",
    "    else:\n",
    "        for group in ['FEM', 'BMW', 'COMP', 'ADMIN', 'SUM']:\n",
    "            szabiData[group] = np.array(szabiData[group]) \n",
    "print(szabiData)\n",
    "print(months)"
   ]
  },
  {
   "cell_type": "markdown",
   "metadata": {},
   "source": [
    "### Csoportosított oszlopdiagram"
   ]
  },
  {
   "cell_type": "code",
   "execution_count": null,
   "metadata": {},
   "outputs": [],
   "source": [
    "x = np.arange(len(months))  # the label locations\n",
    "width = 0.2  # the width of the bars\n",
    "\n",
    "fig, ax = plt.subplots(figsize=(10,8))\n",
    "femPlot = ax.bar(x - 3*width/2, height=szabiData['FEM'], width=width, label='Általános FEM')\n",
    "bmwPlot = ax.bar(x - width/2, height=szabiData['BMW'], width=width, label='BMW')\n",
    "compPlot = ax.bar(x + width/2, height=szabiData['COMP'], width=width, label='Kompozit')\n",
    "adminPlot = ax.bar(x + 3*width/2, height=szabiData['ADMIN'], width=width, label='Egyéb')\n",
    "\n",
    "# Add some text for labels, title and custom x-axis tick labels, etc.\n",
    "ax.set_ylabel('Szabik')\n",
    "ax.set_title('Szabadságok csoportonként')\n",
    "ax.set_xticks(x)\n",
    "ax.set_xticklabels(months)\n",
    "ax.legend()\n",
    "\n",
    "ax.bar_label(femPlot, padding=3)\n",
    "ax.bar_label(bmwPlot, padding=3)\n",
    "ax.bar_label(compPlot, padding=3)\n",
    "ax.bar_label(adminPlot, padding=3)\n",
    "\n",
    "plt.xticks(rotation = 90)\n",
    "\n",
    "fig.tight_layout()\n",
    "ax.legend = None\n",
    "plt.show()"
   ]
  },
  {
   "cell_type": "markdown",
   "metadata": {},
   "source": [
    "### Halmozott oszlopdiagram (új stílusban)"
   ]
  },
  {
   "cell_type": "code",
   "execution_count": null,
   "metadata": {},
   "outputs": [],
   "source": [
    "# Use an other plot style\n",
    "plt.style.use('ggplot')\n",
    "\n",
    "fig, ax = plt.subplots(figsize=(10,8))\n",
    "femPlot = ax.bar(x, height=szabiData['FEM'], bottom = 0,  label='Általános FEM')\n",
    "bmwPlot = ax.bar(x, height=szabiData['BMW'], bottom = szabiData['FEM'], label='BMW')\n",
    "compPlot = ax.bar(x, height=szabiData['COMP'], bottom = szabiData['FEM'] + szabiData['BMW'], label='Kompozit')\n",
    "adminPlot = ax.bar(x, height=szabiData['ADMIN'], bottom = szabiData['FEM'] + szabiData['BMW'] + szabiData['COMP'],\n",
    "                   label='Egyéb')\n",
    "\n",
    "ax.set_ylabel('Szabik')\n",
    "ax.set_title('Szabadságok csoportonként')\n",
    "ax.set_xticks(x)\n",
    "ax.set_xticklabels(months)\n",
    "ax.legend()"
   ]
  },
  {
   "cell_type": "markdown",
   "metadata": {},
   "source": [
    "Ugyanez a csoportok létszámára leosztva:"
   ]
  },
  {
   "cell_type": "code",
   "execution_count": null,
   "metadata": {},
   "outputs": [],
   "source": [
    "femNum = 7\n",
    "bmwNum = 4\n",
    "compNum = 4\n",
    "adminNum = 3   "
   ]
  },
  {
   "cell_type": "code",
   "execution_count": null,
   "metadata": {},
   "outputs": [],
   "source": [
    "fig, ax = plt.subplots(1,2, figsize=(16,8), sharey=False)\n",
    "\n",
    "femPlot = ax[0].bar(x - 3*width/2, height=szabiData['FEM'], width=width, label='Általános FEM')\n",
    "bmwPlot = ax[0].bar(x - width/2, height=szabiData['BMW'], width=width, label='BMW')\n",
    "compPlot = ax[0].bar(x + width/2, height=szabiData['COMP'], width=width, label='Kompozit')\n",
    "adminPlot = ax[0].bar(x + 3*width/2, height=szabiData['ADMIN'], width=width, label='Egyéb')\n",
    "\n",
    "femPlot = ax[1].bar(x - 3*width/2, height=szabiData['FEM']/femNum, width=width, label='Általános FEM')\n",
    "bmwPlot = ax[1].bar(x - width/2, height=szabiData['BMW']/bmwNum, width=width, label='BMW')\n",
    "compPlot = ax[1].bar(x + width/2, height=szabiData['COMP']/compNum, width=width, label='Kompozit')\n",
    "adminPlot = ax[1].bar(x + 3*width/2, height=szabiData['ADMIN']/adminNum, width=width, label='Egyéb')\n",
    "\n",
    "fig.suptitle('Szabadságok csoportonként', fontsize = 18)\n",
    "ax[0].set_ylabel('Összes szabi')\n",
    "ax[0].set_xticks(x)\n",
    "ax[0].set_xticklabels(months, rotation=30)\n",
    "ax[0].legend()\n",
    "ax[1].set_ylabel('Szabi / fő')\n",
    "ax[1].set_xticks(x)\n",
    "ax[1].set_xticklabels(months, rotation=45)\n",
    "ax[1].legend()\n",
    "\n",
    "\n",
    "plt.tight_layout()"
   ]
  },
  {
   "cell_type": "markdown",
   "metadata": {},
   "source": [
    "## Scattet plot\n",
    "Amikor nem egy folytonos adatsort szeretnénk megjeleníteni, csak összetartozó pontpárokat, akkor a Scatter plot lehet megoldás. Használata szinte teljesen megegyezik a sima `plt.plot()`-tal, így csak röviden mutatom be.\n",
    "\n",
    "Használata akkor a legelterjedtebb, amikor két változó közötti korrelációt szeretnénk vizualizálni, vagy esetleg kiugró értékeket ellenőriznénk."
   ]
  },
  {
   "cell_type": "code",
   "execution_count": null,
   "metadata": {},
   "outputs": [],
   "source": [
    "plt.style.use('seaborn')"
   ]
  },
  {
   "cell_type": "code",
   "execution_count": null,
   "metadata": {},
   "outputs": [],
   "source": [
    "x_dat = [5, 7, 8, 5, 6, 7, 9, 2, 3, 4, 4, 4, 2, 6, 3, 6, 8, 6, 4, 1]\n",
    "y_dat = [7, 4, 3, 9, 1, 3, 2, 5, 2, 4, 8, 7, 1, 6, 4, 9, 7, 7, 5, 1]"
   ]
  },
  {
   "cell_type": "code",
   "execution_count": null,
   "metadata": {},
   "outputs": [],
   "source": [
    "plt.scatter(x_dat, y_dat)"
   ]
  },
  {
   "cell_type": "code",
   "execution_count": null,
   "metadata": {},
   "outputs": [],
   "source": [
    "plt.scatter(x_dat, y_dat, s=200, c='red', edgecolor='black', linewidth=1, alpha=0.75)"
   ]
  },
  {
   "cell_type": "markdown",
   "metadata": {},
   "source": [
    "A plotunkon az x-z pontokon kívül **akár még 2 másik dimenziót** is megjeleníthetünk a markerek méretét és színét változtatva:"
   ]
  },
  {
   "cell_type": "code",
   "execution_count": null,
   "metadata": {},
   "outputs": [],
   "source": [
    "colors = [7, 5, 9, 7, 5, 7, 2, 5, 3, 7, 1, 2, 8, 1, 9, 2, 5, 6, 7, 5]\n",
    "sizes = [209, 486, 381, 255, 191, 315, 185, 228, 174, 538, 239, 394, 399, 153, 273, 293, 436, 501, 397, 539]\n",
    "plt.scatter(x_dat, y_dat, s=sizes, c=colors, edgecolor='black', linewidth=1, alpha=0.75)  #cmap='Greens'\n",
    "\n",
    "cBar = plt.colorbar()\n",
    "cBar.set_label('Colored by value')\n",
    "\n",
    "# Available colormaps:\n",
    "# https://matplotlib.org/stable/tutorials/colors/colormaps.html"
   ]
  },
  {
   "cell_type": "markdown",
   "metadata": {},
   "source": [
    "Nézzünk meg egy valós adatsort, ami 1970 és 1981 között gyártott autók fogyaztását tartlamazza."
   ]
  },
  {
   "cell_type": "code",
   "execution_count": null,
   "metadata": {},
   "outputs": [],
   "source": [
    "import seaborn as sns\n",
    "\n",
    "mpg = sns.load_dataset('mpg')\n",
    "mpg['l/100km'] = 235.215 / mpg['mpg']\n",
    "mpg['weight-kg'] = mpg['weight'] * 0.45359\n",
    "mpg.head()"
   ]
  },
  {
   "cell_type": "code",
   "execution_count": null,
   "metadata": {},
   "outputs": [],
   "source": [
    "mpg['model_year'].unique()"
   ]
  },
  {
   "cell_type": "code",
   "execution_count": null,
   "metadata": {},
   "outputs": [],
   "source": [
    "fig, ax = plt.subplots(figsize=(12,8))\n",
    "\n",
    "mpgPlot = ax.scatter(mpg['l/100km'], mpg['weight-kg'], alpha=0.75, edgecolor='black', linewidth=0.5,\n",
    "                     c=mpg['horsepower'], cmap='copper', s=mpg['cylinders']*20)\n",
    "ax.set_xlabel('Fogyasztás [l/100km]')\n",
    "ax.set_ylabel('Autó tömege [kg]')\n",
    "ax.set_title('Autók fogyasztásának összefüggései')\n",
    "cBar = fig.colorbar(mpgPlot)\n",
    "cBar.set_label('Lóerő')\n",
    "plt.tight_layout()"
   ]
  },
  {
   "cell_type": "code",
   "execution_count": null,
   "metadata": {},
   "outputs": [],
   "source": [
    "def scatter_hist(x, y, ax, ax_histx, ax_histy):\n",
    "    # no labels\n",
    "    ax_histx.tick_params(axis=\"x\", labelbottom=False)\n",
    "    ax_histy.tick_params(axis=\"y\", labelleft=False)\n",
    "\n",
    "    # the scatter plot:\n",
    "    ax.scatter(x, y)\n",
    "\n",
    "#     # now determine nice limits by hand:\n",
    "#     binwidth = 0.25\n",
    "#     xymax = max(np.max(np.abs(x)), np.max(np.abs(y)))\n",
    "#     lim = (int(xymax/binwidth) + 1) * binwidth\n",
    "\n",
    "#     bins = np.arange(-lim, lim + binwidth, binwidth)\n",
    "#     ax_histx.hist(x, bins=bins)\n",
    "#     ax_histy.hist(y, bins=bins, orientation='horizontal')\n",
    "    ax_histx.hist(x, bins=20)\n",
    "    ax_histy.hist(y, bins=20, orientation='horizontal')\n",
    "    \n",
    "#--------------------------- \n",
    "# start with a square Figure\n",
    "fig = plt.figure(figsize=(8, 8))\n",
    "\n",
    "# Add a gridspec with two rows and two columns and a ratio of 2 to 7 between\n",
    "# the size of the marginal axes and the main axes in both directions.\n",
    "# Also adjust the subplot parameters for a square plot.\n",
    "gs = fig.add_gridspec(2, 2,  width_ratios=(7, 2), height_ratios=(2, 7),\n",
    "                      left=0.1, right=0.9, bottom=0.1, top=0.9,\n",
    "                      wspace=0.05, hspace=0.05)\n",
    "\n",
    "ax = fig.add_subplot(gs[1, 0])\n",
    "ax_histx = fig.add_subplot(gs[0, 0], sharex=ax)\n",
    "ax_histy = fig.add_subplot(gs[1, 1], sharey=ax)\n",
    "\n",
    "# use the previously defined function\n",
    "scatter_hist(mpg['l/100km'], mpg['weight-kg'], ax, ax_histx, ax_histy)\n",
    "\n",
    "plt.show()"
   ]
  },
  {
   "cell_type": "markdown",
   "metadata": {},
   "source": [
    "## Boxplot - Violinplot\n",
    "A box és violin plot kategorizált adatok eloszlását mutatja. Segítségükkel jól összehasonlíthatóak a különböző kategóriák. A boxplot a kvartilisek elhelyezkedését jeleníti meg, a violinplot pedig az egész eloszlásról ad infomációt."
   ]
  },
  {
   "cell_type": "code",
   "execution_count": null,
   "metadata": {},
   "outputs": [],
   "source": [
    "np.sort(mpg['cylinders'].unique())"
   ]
  },
  {
   "cell_type": "code",
   "execution_count": null,
   "metadata": {},
   "outputs": [],
   "source": [
    "cylinders = np.sort(mpg['cylinders'].unique())\n",
    "data = [mpg[mpg['cylinders']==cylinder]['l/100km'] for cylinder in cylinders]"
   ]
  },
  {
   "cell_type": "code",
   "execution_count": null,
   "metadata": {},
   "outputs": [],
   "source": [
    "fig, axs = plt.subplots(nrows=1, ncols=2, figsize=(12, 8), sharey=True)\n",
    "\n",
    "# plot violin plot\n",
    "axs[0].violinplot(data,\n",
    "                  showmeans=False,\n",
    "                  showmedians=True)\n",
    "axs[0].set_title('Violin plot')\n",
    "axs[0].set_ylabel('Fogyasztás [l/100km]')\n",
    "\n",
    "# plot box plot\n",
    "axs[1].boxplot(data)\n",
    "axs[1].set_title('Box plot')\n",
    "\n",
    "\n",
    "# add x-tick labels\n",
    "plt.setp(axs, xticks=[y + 1 for y in range(len(data))],\n",
    "         xticklabels=[f'{cylinder} hengeres' for cylinder in cylinders],\n",
    "         xlabel='Hengerek száma')\n",
    "plt.tight_layout()\n",
    "plt.show()"
   ]
  },
  {
   "cell_type": "markdown",
   "metadata": {},
   "source": [
    "Figyelni kell azonban az egyes kategóriákba sorolt elemek számára:"
   ]
  },
  {
   "cell_type": "code",
   "execution_count": null,
   "metadata": {},
   "outputs": [],
   "source": [
    "labels, counter = [], []\n",
    "for dat, henger in zip(data, cylinders):\n",
    "    print(f'A {henger} hengeres autókból {len(dat)} darab volt.')\n",
    "    labels.append(f'{henger} hengeres')\n",
    "    counter.append(len(dat))"
   ]
  },
  {
   "cell_type": "markdown",
   "metadata": {},
   "source": [
    "## Pie chart\n",
    "A kördiagram nem tipikusan a mérnöki szakmának a legelterjeddtebb plot típusa, de bizonyos adatok megjelenítéséhez előnyös lehet."
   ]
  },
  {
   "cell_type": "code",
   "execution_count": null,
   "metadata": {},
   "outputs": [],
   "source": [
    "plt.style.use(\"fivethirtyeight\")\n",
    "\n",
    "# Pie chart, where the slices will be ordered and plotted counter-clockwise:\n",
    "\n",
    "fig, ax = plt.subplots()\n",
    "ax.pie(counter, labels=labels,shadow=True, startangle=90)\n",
    "ax.axis('equal')  # Equal aspect ratio ensures that pie is drawn as a circle.\n",
    "\n",
    "plt.show()"
   ]
  },
  {
   "cell_type": "code",
   "execution_count": null,
   "metadata": {},
   "outputs": [],
   "source": [
    "'''\n",
    "Felirat értékkel, cím.\n",
    "'''\n",
    "\n",
    "fig, ax = plt.subplots()\n",
    "ax.pie(counter, labels=labels, shadow=True, startangle=90,\n",
    "       autopct=lambda p: '{:.0f}'.format(p * sum(counter) / 100))\n",
    "ax.axis('equal')\n",
    "ax.set_title('Hengerek számának megoszlása a felmérésben')\n",
    "plt.tight_layout()\n",
    "plt.show()"
   ]
  },
  {
   "cell_type": "code",
   "execution_count": null,
   "metadata": {},
   "outputs": [],
   "source": [
    "'''\n",
    "Százalékos felirat, kiemelt cím, explode.\n",
    "'''\n",
    "fig, ax = plt.subplots()\n",
    "ax.pie(counter, labels=labels, shadow=True, startangle=90,\n",
    "       autopct='%1.1f%%', explode=[0, 0.01, 0.05, 0.1, 0.2], wedgeprops={'edgecolor': 'black'})\n",
    "ax.axis('equal')\n",
    "ax.set_title('Hengerek számának megoszlása a felmérésben', y=1.1) # Move the title higher\n",
    "plt.tight_layout()\n",
    "plt.show()"
   ]
  },
  {
   "cell_type": "markdown",
   "metadata": {},
   "source": [
    "## Időjelek megjelenítése"
   ]
  },
  {
   "cell_type": "code",
   "execution_count": null,
   "metadata": {},
   "outputs": [],
   "source": [
    "import pandas as pd\n",
    "df = pd.read_csv('src/covid_impact_on_airport_traffic.csv')\n",
    "df.head()"
   ]
  },
  {
   "cell_type": "code",
   "execution_count": null,
   "metadata": {},
   "outputs": [],
   "source": [
    "df['Date'] = pd.to_datetime(df.Date)\n",
    "df.sort_values(by='Date', inplace=True)\n",
    "df.head()"
   ]
  },
  {
   "cell_type": "code",
   "execution_count": null,
   "metadata": {},
   "outputs": [],
   "source": [
    "df.AirportName.unique()"
   ]
  },
  {
   "cell_type": "code",
   "execution_count": null,
   "metadata": {},
   "outputs": [],
   "source": [
    "dates = df['Date'].unique()\n",
    "JFK = df[df['AirportName']=='John F. Kennedy International']['PercentOfBaseline']\n",
    "LAX = df[df['AirportName']=='Los Angeles International']['PercentOfBaseline']"
   ]
  },
  {
   "cell_type": "code",
   "execution_count": null,
   "metadata": {},
   "outputs": [],
   "source": [
    "fig, ax = plt.subplots()\n",
    "\n",
    "ax.plot_date(dates, JFK, label='JFK')\n",
    "ax.plot_date(dates, LAX, label='LAX')\n",
    "ax.legend()\n",
    "ax.set_title('Repülőterek forgalmának százalékos változása a COVID hatására')"
   ]
  },
  {
   "cell_type": "code",
   "execution_count": null,
   "metadata": {},
   "outputs": [],
   "source": []
  }
 ],
 "metadata": {
  "kernelspec": {
   "display_name": "Python 3",
   "language": "python",
   "name": "python3"
  },
  "language_info": {
   "codemirror_mode": {
    "name": "ipython",
    "version": 3
   },
   "file_extension": ".py",
   "mimetype": "text/x-python",
   "name": "python",
   "nbconvert_exporter": "python",
   "pygments_lexer": "ipython3",
   "version": "3.7.2"
  }
 },
 "nbformat": 4,
 "nbformat_minor": 4
}
