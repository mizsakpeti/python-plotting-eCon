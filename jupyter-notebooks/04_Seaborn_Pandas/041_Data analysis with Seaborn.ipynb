{
 "cells": [
  {
   "cell_type": "markdown",
   "metadata": {},
   "source": [
    "# Seaborn: statisztikai adatvizualizálás\n",
    "A seaborn python csomag alapverően a matplotlib-re épül, azt egészíti felhasználóbarát, hasznos funkciókkal a gyors és egyszerű vizualizációhoz.\n",
    "Megtalálhatóak benne a leggyakoribb adatelemzéshez használt plot típusok, és nagyon jól működik együtt a Pandas Dataframe adattípussal is.\n",
    "\n",
    "A szokásos módon telepíthető és importálható\n",
    "\n",
    "    pip install seaborn\n",
    "    \n",
    "https://seaborn.pydata.org/examples/index.html"
   ]
  },
  {
   "cell_type": "code",
   "execution_count": null,
   "metadata": {},
   "outputs": [],
   "source": [
    "import seaborn as sns"
   ]
  },
  {
   "cell_type": "markdown",
   "metadata": {},
   "source": [
    "## 1. Adatok eloszlásának megjelenítése\n",
    "Az első lépésben egy adatsor eloszlását fogjuk elemezni. Hasznosak lehetnek ezek a plot típusok például mérési eredmények elemzéséhez, vagy érzékenységvizsgálathoz optimalizáció előtt, a megfelelő paraméterek megtalálásához."
   ]
  },
  {
   "cell_type": "code",
   "execution_count": null,
   "metadata": {},
   "outputs": [],
   "source": [
    "tips = sns.load_dataset('tips')\n",
    "tips.head()"
   ]
  },
  {
   "cell_type": "markdown",
   "metadata": {},
   "source": [
    "### 1.1 Distplot\n",
    "Az `sns.distplot()` egy adatsor eloszlását mutatja meg. Ehhez a seaborn-ból elérhető 'tips' példa adatsort fogjuk használni.\n",
    "Már egy sor kóddal is hasznos információkat tartalmazó grafikonokhoz juthatunk."
   ]
  },
  {
   "cell_type": "code",
   "execution_count": null,
   "metadata": {},
   "outputs": [],
   "source": [
    "sns.distplot(tips['total_bill'])\n",
    "# Safe to ignore warnings"
   ]
  },
  {
   "cell_type": "code",
   "execution_count": null,
   "metadata": {},
   "outputs": [],
   "source": [
    "sns.distplot(tips['total_bill'],kde=False,bins=30)"
   ]
  },
  {
   "cell_type": "markdown",
   "metadata": {},
   "source": [
    "### 1.2 Jointplot\n",
    "Az `sns.jointplot()` alapvetően két eloszlás plotnak a kombinációja, amivel már két paraméter eloszlását is figyelhetjük egyszerre.\n",
    "\n",
    "Többféle fomáji elérhetőek, amiket érdemes kipróbálgatni:\n",
    "* “scatter” \n",
    "* “reg” \n",
    "* “resid” \n",
    "* “kde” \n",
    "* “hex”"
   ]
  },
  {
   "cell_type": "code",
   "execution_count": null,
   "metadata": {},
   "outputs": [],
   "source": [
    "sns.jointplot(x='total_bill',y='tip',data=tips,kind='scatter')\n",
    "sns.jointplot(x='total_bill',y='tip',data=tips,kind='hex')"
   ]
  },
  {
   "cell_type": "code",
   "execution_count": null,
   "metadata": {},
   "outputs": [],
   "source": [
    "sns.jointplot(x='total_bill',y='tip',data=tips,kind='reg')"
   ]
  },
  {
   "cell_type": "markdown",
   "metadata": {},
   "source": [
    "### 1.3 Pairplot\n",
    "A `sns.pairplot()` még a korábbi példáhhoz képest is egy nagyon kód-takarékos és gyors megjelenítésni módszer, hiszen minden paraméter összes másikkal nézett kölcsönhatását segít vizualizálni."
   ]
  },
  {
   "cell_type": "code",
   "execution_count": null,
   "metadata": {},
   "outputs": [],
   "source": [
    "sns.pairplot(tips)"
   ]
  },
  {
   "cell_type": "code",
   "execution_count": null,
   "metadata": {},
   "outputs": [],
   "source": [
    "sns.pairplot(tips,hue='sex',palette='coolwarm', kind='reg')"
   ]
  },
  {
   "cell_type": "markdown",
   "metadata": {},
   "source": [
    "## 2. Kategorizált plotok\n",
    "A fenti példában láttuk, hogy bizonyos paraméterek csak fix értékeket vehetnek fel, ezek esetében nem a legoptimálisabb a \"szórás\" típusú megjelenítés, ezért nézzünk pár példát, hogy ezeket az adatokat hogyan lehet hatékonyabban elemezni."
   ]
  },
  {
   "cell_type": "markdown",
   "metadata": {},
   "source": [
    "### 2.1 Barplot\n",
    "A matplotlibhez készített barplot itt is elkészíthető, viszont itt az adatok valami függvény alapján vannak összesítva, ami alapból az 'átlag' de ez felülírható"
   ]
  },
  {
   "cell_type": "code",
   "execution_count": null,
   "metadata": {},
   "outputs": [],
   "source": [
    "sns.barplot(x='sex',y='total_bill',data=tips)"
   ]
  },
  {
   "cell_type": "markdown",
   "metadata": {},
   "source": [
    "Láttuk, hogy korábban egy sor kóddal egy egész plot-mátrixot készített nekünk a seaborn, de ha egy kicsit több beavatkozást szeretnénk, annak sincs semmi akadája, hiszen a plotok jelentős részének bemeneti argumentuma lehet a `matplotlib ax` objetum, amire aztán a seaborn a kért adatokat megjeleníti."
   ]
  },
  {
   "cell_type": "code",
   "execution_count": null,
   "metadata": {},
   "outputs": [],
   "source": [
    "import matplotlib.pyplot as plt\n",
    "import numpy as np"
   ]
  },
  {
   "cell_type": "code",
   "execution_count": null,
   "metadata": {},
   "outputs": [],
   "source": [
    "fig, axes = plt.subplots(1,2)\n",
    "sns.barplot(x='time',y='total_bill',data=tips,ax=axes[0],estimator=np.median)\n",
    "sns.barplot(x='day',y='total_bill',hue='time',data=tips,ax=axes[1],estimator=np.median)\n",
    "plt.tight_layout()"
   ]
  },
  {
   "cell_type": "markdown",
   "metadata": {},
   "source": [
    "### 2.2 Countplot\n",
    "A `sns.coutplot()` nagyon hasonlít a korábbi oszlopdiagramhoz, viszont itt az előfordulások száma kerül megjelnítésre."
   ]
  },
  {
   "cell_type": "code",
   "execution_count": null,
   "metadata": {},
   "outputs": [],
   "source": [
    "sns.countplot(x='sex',data=tips)"
   ]
  },
  {
   "cell_type": "markdown",
   "metadata": {},
   "source": [
    "### 2.3 Box és violinplot\n",
    "Ezt a két plottípust már a matplotlibnél is megnéztük, itt viszont kicsit más a szintaxis és több opciót érhetünk el nagyon kevés kóddal."
   ]
  },
  {
   "cell_type": "code",
   "execution_count": null,
   "metadata": {},
   "outputs": [],
   "source": [
    "fig, axes = plt.subplots(1,2)\n",
    "sns.boxplot(x=\"day\", y=\"total_bill\", data=tips,palette='rainbow',ax=axes[0])\n",
    "sns.violinplot(x=\"day\", y=\"total_bill\", data=tips,palette='rainbow',ax=axes[1])\n",
    "axes[0].set_title(\"BoxPlot\")\n",
    "axes[1].set_title(\"ViolinPlot\")\n",
    "plt.tight_layout()"
   ]
  },
  {
   "cell_type": "code",
   "execution_count": null,
   "metadata": {},
   "outputs": [],
   "source": [
    "fig, axes = plt.subplots(1,2, figsize=(10,6))\n",
    "sns.violinplot(x=\"day\", y=\"tip\",hue=\"sex\", data=tips,ax=axes[0])\n",
    "sns.violinplot(x=\"day\", y=\"tip\",hue=\"sex\",split=True, data=tips,ax=axes[1])\n",
    "plt.tight_layout()"
   ]
  },
  {
   "cell_type": "markdown",
   "metadata": {},
   "source": [
    "### Egy kis érdekesség: swarmplot"
   ]
  },
  {
   "cell_type": "code",
   "execution_count": null,
   "metadata": {},
   "outputs": [],
   "source": [
    "sns.violinplot(x=\"tip\", y=\"day\", data=tips,palette='rainbow')\n",
    "sns.swarmplot(x=\"tip\", y=\"day\", data=tips,color='black',size=3)"
   ]
  },
  {
   "cell_type": "markdown",
   "metadata": {},
   "source": [
    "## 3. Mátrix típusú plotok\n",
    "A mátrix típusú plotok segítségével szín szerint kódolva jeleníthetünk meg adatokat. Sok esetben ez nagyon látványos módja eredmények vizualizálásának."
   ]
  },
  {
   "cell_type": "markdown",
   "metadata": {},
   "source": [
    "### 3.1 Heatmap\n",
    "Az `sns.heatmap()` függvény bemenetének már egy kész mátrix formátumú dataframe-et kell megadni, és igazából csak az értékek alapján színezi a cellákat."
   ]
  },
  {
   "cell_type": "code",
   "execution_count": null,
   "metadata": {},
   "outputs": [],
   "source": [
    "tips.corr()"
   ]
  },
  {
   "cell_type": "code",
   "execution_count": null,
   "metadata": {},
   "outputs": [],
   "source": [
    "sns.heatmap(tips.corr())"
   ]
  },
  {
   "cell_type": "code",
   "execution_count": null,
   "metadata": {},
   "outputs": [],
   "source": [
    "'''A seaborn visszetér egy matplotlib objektummal, amit tovább szerkeszthetünk.'''\n",
    "\n",
    "ax = sns.heatmap(tips.corr(), cmap='coolwarm', linewidths=1, xticklabels=['létszám', 'borravaló', 'számla végösszeg'], annot=True)\n",
    "print(type(ax))\n",
    "\n",
    "ax.set_title('my_heatmap')\n",
    "plt.show()"
   ]
  },
  {
   "cell_type": "markdown",
   "metadata": {},
   "source": [
    "Az eddig használt borravalós adatsor nem túl látványos heatmap típusú vizualizációhoz, úgyhogy nézzünk egy másik adatsort..."
   ]
  },
  {
   "cell_type": "code",
   "execution_count": null,
   "metadata": {},
   "outputs": [],
   "source": [
    "flights = sns.load_dataset('flights')\n",
    "flights.head()"
   ]
  },
  {
   "cell_type": "code",
   "execution_count": null,
   "metadata": {},
   "outputs": [],
   "source": [
    "pvflights = flights.pivot_table(values='passengers',index='month',columns='year')\n",
    "pvflights.head()"
   ]
  },
  {
   "cell_type": "code",
   "execution_count": null,
   "metadata": {},
   "outputs": [],
   "source": [
    "sns.heatmap(pvflights, linewidth=0.5, )"
   ]
  },
  {
   "cell_type": "markdown",
   "metadata": {},
   "source": [
    "### 3.2 Clustermap\n",
    "Az `sns.clustermap()` nagyon hasonlít a heatmapre, azzal a különbséggel, hogy a hasonló oszlopokat és sorokat egy clusterezési algoritmus szerint összepárosítja, így egymás mellett jelenítni meg."
   ]
  },
  {
   "cell_type": "code",
   "execution_count": null,
   "metadata": {},
   "outputs": [],
   "source": [
    "sns.clustermap(pvflights)"
   ]
  },
  {
   "cell_type": "markdown",
   "metadata": {},
   "source": [
    "A klaszterezéshez használt elérhető módszerekről itt található további információ:\n",
    "https://docs.scipy.org/doc/scipy/reference/generated/scipy.cluster.hierarchy.linkage.html"
   ]
  },
  {
   "cell_type": "code",
   "execution_count": null,
   "metadata": {},
   "outputs": [],
   "source": [
    "'''\n",
    "Normalized, only cluesered for months.\n",
    "'''\n",
    "sns.clustermap(pvflights,cmap='coolwarm',standard_scale=1, col_cluster=False, method='weighted')\n"
   ]
  },
  {
   "cell_type": "code",
   "execution_count": null,
   "metadata": {},
   "outputs": [],
   "source": []
  }
 ],
 "metadata": {
  "kernelspec": {
   "display_name": "Python 3",
   "language": "python",
   "name": "python3"
  },
  "language_info": {
   "codemirror_mode": {
    "name": "ipython",
    "version": 3
   },
   "file_extension": ".py",
   "mimetype": "text/x-python",
   "name": "python",
   "nbconvert_exporter": "python",
   "pygments_lexer": "ipython3",
   "version": "3.7.2"
  }
 },
 "nbformat": 4,
 "nbformat_minor": 2
}
