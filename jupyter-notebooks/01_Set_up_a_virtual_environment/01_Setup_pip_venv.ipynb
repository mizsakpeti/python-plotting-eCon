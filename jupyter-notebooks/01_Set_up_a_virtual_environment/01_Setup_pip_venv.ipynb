{
 "cells": [
  {
   "cell_type": "markdown",
   "metadata": {},
   "source": [
    "# Környezet kialakítása csomagok telepítése"
   ]
  },
  {
   "cell_type": "markdown",
   "metadata": {},
   "source": [
    "## 1. Virtual environment - venv\n",
    "Amikor egy új python projektbe kezdünk, érdemes ehhez egy saját \"virtuális környezetet\" létrehozni, és ebbe telepíteni a később felhasznált csomagokat.\n",
    "\n",
    "A legnagyobb előnye, hogy így ha pl később frissíteni akarunk egy csomagot, akkor a **korábban megírt kódunkat ez nem fogja befolyásolni**, a saját virtuális környezetéhez tartozó csomagok érintetlenül maradnak, a **kód továbbra is ugyanúgy fog futni.**\n",
    "\n",
    "Ezeknek a kezelése Anacondából is lehetséges, de röviden megmutatom a parancssoros verziót a Python beépített venv moduljával."
   ]
  },
  {
   "cell_type": "markdown",
   "metadata": {},
   "source": [
    "### 1.1 Virtuális környezet létrehozása\n",
    "A következő kódsorokat parancssorbón kell kiadni. A Python **venv modulja** az alapcsomag része, így nem szükséges külön telepíteni.\n",
    "\n",
    "Először nézzük meg, hogy milyen csomagok vannak telepítve a \"fő\" Python könyvtárba:\n",
    "\n",
    "    pip list\n",
    "\n",
    "Ezt követően hozzunk létre egy virtuális környezetet az aktuális projekthez. Először navigáljunk a projekt mappájába (cd paranccsal), majd futtassuk a következő kódsort a \"plotting_venv' nevű virtuális környezet létrehozásához.\n",
    "\n",
    "    python -m venv plotting_venv\n",
    "\n",
    "Most létrejött egy \"plotting_venv\" nevű mappa ott, ahol kiadtuk a parancsot, és ezzel **alapvetően készen is van a virtuális környezet.**\n",
    "\n",
    "*(Ha több Python verzió is telepítve van a gépünkre, akkor azzal a python verzióval adjuk ki a fenti parancsot, amit a virtuális környezetbe bele szeretnénk építeni)* \n",
    "\n",
    "    py -3.7 -m venv  plotting_venv"
   ]
  },
  {
   "cell_type": "markdown",
   "metadata": {},
   "source": [
    "### 1.2 Virtuális környezet aktiválása\n",
    "A korábban létrehozott **virtuális környezet aktiválásához** a benne található *avtivate.bat* file-t kell futtatnunk a parancssorból. (Linuxon *activate.csh*)\n",
    "\n",
    "    plotting_venv\\Scripts\\activate.bat\n",
    "\n",
    "Ha ezt sikeresen lefuttattuk, akkor megfigyelhető, hogy a terminál kiírja a sorok elején, hogy éppen ebben a virtuális környezetben vagyunk. Ezt ellenőrizhetjük úgy is, hogy megnézzük, hogy melyik Python verzió aktív:\n",
    "\n",
    "    where python (Windows)\n",
    "\n",
    "    which python (Linux)\n",
    "\n",
    "Ha minden jó sikerült, akkor a virtuális környezetünk Python verziója látszik legfelül a listában. A környezet **deaktiválása** szintén nem túl bonyolult, az alábbi parancsot kell egyszerűen kiadni:\n",
    "\n",
    "    deactivate\n"
   ]
  },
  {
   "cell_type": "markdown",
   "metadata": {},
   "source": [
    "## 2. Csomagok telepítése - pip\n",
    "\n",
    "Elkészült a virtuális környeztünk, így következhet a projekthez szükséges csomagok telepítése. Először a már korábban látott *\"pip list\"* paranccsal ellenőrizhetjük az újonnan létrehozott környezetünk tartalmát. Láthatjuk, **hogy nem teljesen üres, hiszen a `pip` például már telepítve van,** de erre szükségünk is lesz a további csomagok telepítéséhez.\n",
    "\n",
    "Maga a `pip` a Python Package Manager, amivel telepíthetjük, frissíthatjük, törölhetjük vagy listázhatjuk a telepített csomagokat.\n",
    "\n",
    "### 2.1 Telepítés egyessével\n",
    "Kezdhetjük például a `matplotlib` telepítésével. Fontos kihangsúlyozni, hogy az virtuális környezetben telepített csomagok **csak itt elérhetőek,** az alap Python csomagok közé nem kerülnek be.\n",
    "\n",
    "    python -m pip install matplotlib\n",
    "    python -m pip install matplotlib==3.4.3\n",
    "\n",
    "A parancs kiadását követően, ha ismételten megnézzük a telepített csomagok listáját, akkor láthatjuk, hogy nem csak a `matplotlib` került bele, hanem több más könyvtár is. Ez azért van, mert a telepítés során az összes \"függőség\" is települ, azaz azok a csomagok, amikre a matplotlibnek is szüksége van.\n",
    "\n",
    "### 2.2 Telepítés lista alapján\n",
    "A csomagokat nem csak egyesével lehet telepíteni. Lehetőségünk van **\"requiremets.txt\"** file-ba gyűjtött összes szükséges csomag telepítésére a következő paranccsal:\n",
    "\n",
    "    python -m pip install -r requirements.txt\n",
    "\n",
    "Ebben a file-ban nem csak a csomagok nevei, de a verziói is listázhatók, így tudjuk azt a verziót telepíteni mindenből, amivel a kódunk működni fog. A projekthez használt csomagok a Jupyter Notebook mellett egy \"requiremets.txt\"-ben megtalálható, és ez alapján telepíthetőek.\n",
    "\n",
    "### 2.3 Lista exportálása\n",
    "A virtuális környezetünkbe telepített programok listáját ki is menthetjük a pip freeze paranncsal:\n",
    "\n",
    "    pip freeze > requirement.txt\n",
    "\n",
    "Ebben listázásra kerül környezet összes telepített könyvtára verziószámmal együtt."
   ]
  },
  {
   "cell_type": "markdown",
   "metadata": {},
   "source": [
    "pip install --user ipykernel\n",
    "\n",
    "python -m ipykernel install --user --name=myenv"
   ]
  }
 ],
 "metadata": {
  "kernelspec": {
   "display_name": "Python 3",
   "language": "python",
   "name": "python3"
  },
  "language_info": {
   "codemirror_mode": {
    "name": "ipython",
    "version": 3
   },
   "file_extension": ".py",
   "mimetype": "text/x-python",
   "name": "python",
   "nbconvert_exporter": "python",
   "pygments_lexer": "ipython3",
   "version": "3.7.2"
  }
 },
 "nbformat": 4,
 "nbformat_minor": 2
}
