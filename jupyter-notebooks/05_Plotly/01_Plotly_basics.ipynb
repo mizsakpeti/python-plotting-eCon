{
 "cells": [
  {
   "cell_type": "markdown",
   "metadata": {},
   "source": [
    "# Interaktív plotok: Plotly\n",
    "A Plotly egy Open Source grafikai csomag, ami nem csak Python-ban érhető el, de `R`-ben, sőtt `MATLAB`-ban is. A segítségével interaktív plotokat készíthetünk, amiket aztán HTML-be kimentve megtarthatjuk azok interaktivitását.\n",
    "\n",
    "Telepítése a szokásos módon történhet:\n",
    "\n",
    "    pip install plotly\n",
    "    \n",
    "Ezt követően két eltérő módon importálhatjuk és állhatunk neki a plottolásnak:\n",
    "   * `import plotly.express as px`\n",
    "   * `import plotly.graph_objects as go`\n",
    "\n",
    "A Plotly express egy gyorsabb utat jelent a plotok elkészítéséhez, viszont nem minden beállítást érhetünk el rajta keresztül, illetve kevésbé általános. A `graph_objects` használatánál több beállításra is szükség lehet, de itt szinte minden megoldható, hiszen egy üres 'rajzlapról' indulunk, és mi töltjük fel.\n",
    "\n",
    "A Plotly express nagyon jól használható Pandas DataFrame-el kombinálva, ahol az adatok már megfelelően elő vannak készítve. Ez a Plotly dokumentáció alaján az ajánlott mód a plotok elkészítéséhez.\n",
    "\n",
    "A dokumentációja nagyon jó, rengeteg példát mutat, így könnyű megtalálni amit keresünk.\n",
    "https://plotly.com/python/"
   ]
  },
  {
   "cell_type": "code",
   "execution_count": null,
   "metadata": {},
   "outputs": [],
   "source": [
    "import plotly.express as px\n",
    "import plotly.graph_objects as go\n",
    "import pandas as pd"
   ]
  },
  {
   "cell_type": "markdown",
   "metadata": {},
   "source": [
    "## Egyszerű plotok és felépítésük\n",
    "Az iris dataset importálása a `px`-en keresztül is megtörténhet, ezt fogjuk most példaként használni."
   ]
  },
  {
   "cell_type": "code",
   "execution_count": null,
   "metadata": {},
   "outputs": [],
   "source": [
    "df = px.data.iris() # iris is a pandas DataFrame\n",
    "fig = px.scatter(df, x=\"sepal_width\", y=\"sepal_length\")\n",
    "fig.show()"
   ]
  },
  {
   "cell_type": "code",
   "execution_count": null,
   "metadata": {},
   "outputs": [],
   "source": [
    "'''Méter petal_length alapján, méret faj alapján'''\n",
    "fig = px.scatter(df, x=\"sepal_width\", y=\"sepal_length\", color=\"species\",\n",
    "                 size='petal_length', hover_data=['petal_width'],\n",
    "                 title='Plotly scatter plot')\n",
    "fig.show()"
   ]
  },
  {
   "cell_type": "markdown",
   "metadata": {},
   "source": [
    "### Interaktivitás:\n",
    " * Hoverdata\n",
    " * Zoom\n",
    " * Adatsorok 'kikapcsolása'\n",
    " * Adatpontok kijelölése (esemény definiálható)\n",
    " * Adatpontra kattintás (esemény definiálható)\n",
    " * letöltés PNG képként\n",
    " "
   ]
  },
  {
   "cell_type": "markdown",
   "metadata": {},
   "source": [
    "### Tárolt adatstruktúra"
   ]
  },
  {
   "cell_type": "code",
   "execution_count": null,
   "metadata": {
    "scrolled": true
   },
   "outputs": [],
   "source": [
    "'''Egy komplex plot elég sok adatot tartalmaz.'''\n",
    "print(fig)"
   ]
  },
  {
   "cell_type": "code",
   "execution_count": null,
   "metadata": {},
   "outputs": [],
   "source": [
    "'''Nézzük meg egy egyserű példán keresztül - PX'''\n",
    "fig = px.line(x=[\"a\",\"b\",\"c\"], y=[1,3,2], title=\"sample figure\")\n",
    "print(fig)\n",
    "fig.show()"
   ]
  },
  {
   "cell_type": "code",
   "execution_count": null,
   "metadata": {},
   "outputs": [],
   "source": [
    "'''Nézzük meg egy egyserű példán keresztül - GO'''\n",
    "fig = go.Figure(data=go.Scatter(x=[\"a\",\"b\",\"c\"], y=[1,3,2], mode='lines'))\n",
    "print(fig)\n",
    "fig.show()"
   ]
  },
  {
   "cell_type": "markdown",
   "metadata": {},
   "source": [
    "## Ugyanaz a plot a 2 módszerrel"
   ]
  },
  {
   "cell_type": "code",
   "execution_count": null,
   "metadata": {},
   "outputs": [],
   "source": [
    "import pandas as pd\n",
    "\n",
    "df = pd.DataFrame({\n",
    "  \"Fruit\": [\"Apples\", \"Oranges\", \"Bananas\", \"Apples\", \"Oranges\", \"Bananas\"],\n",
    "  \"Contestant\": [\"Alex\", \"Alex\", \"Alex\", \"Jordan\", \"Jordan\", \"Jordan\"],\n",
    "  \"Number Eaten\": [2, 1, 3, 1, 3, 2],\n",
    "})\n",
    "\n",
    "\n",
    "# Plotly Express\n",
    "\n",
    "import plotly.express as px\n",
    "\n",
    "fig = px.bar(df, x=\"Fruit\", y=\"Number Eaten\", color=\"Contestant\", barmode=\"group\")\n",
    "fig.show()\n",
    "\n",
    "\n",
    "# Graph Objects\n",
    "\n",
    "import plotly.graph_objects as go\n",
    "\n",
    "fig = go.Figure()\n",
    "for contestant, group in df.groupby(\"Contestant\"):\n",
    "    fig.add_trace(go.Bar(x=group[\"Fruit\"], y=group[\"Number Eaten\"], name=contestant,\n",
    "      hovertemplate=\"Contestant=%s<br>Fruit=%%{x}<br>Number Eaten=%%{y}<extra></extra>\"% contestant))\n",
    "fig.update_layout(legend_title_text = \"Contestant\")\n",
    "fig.update_xaxes(title_text=\"Fruit\")\n",
    "fig.update_yaxes(title_text=\"Number Eaten\")\n",
    "fig.show()"
   ]
  },
  {
   "cell_type": "markdown",
   "metadata": {},
   "source": [
    "## Formázási, elrendezési beállítások"
   ]
  },
  {
   "cell_type": "markdown",
   "metadata": {},
   "source": [
    "### Subplots\n",
    "https://plotly.com/python/subplots/\n",
    "\n",
    "A `graph_objects` segítségével teljesen magunk rakhatjuk össze a plotokat.\n",
    "\n",
    "Itt a `fig.add_trace()` függvényre hívnám fel a figyelmet, amivel bármilyen, már elkészült Figure objektumhoz adhatunk új adatsort. (Plotly Express-el készült plotot is kiegészíthetünk így.)\n"
   ]
  },
  {
   "cell_type": "code",
   "execution_count": null,
   "metadata": {},
   "outputs": [],
   "source": [
    "from plotly.subplots import make_subplots\n",
    "\n",
    "fig = make_subplots(rows=1, cols=2)\n",
    "\n",
    "fig.add_trace(go.Scatter(y=[4, 2, 1], mode=\"lines\"), row=1, col=1)\n",
    "fig.add_trace(go.Bar(y=[2, 1, 3]), row=1, col=2)\n",
    "\n",
    "fig.show()"
   ]
  },
  {
   "cell_type": "markdown",
   "metadata": {},
   "source": [
    "A Plotly express esetén `facet_col` illetve `facet_row` beállításokkal készíthetünk subplotokat a dataframe egy oszlopának értékei alapján"
   ]
  },
  {
   "cell_type": "code",
   "execution_count": null,
   "metadata": {},
   "outputs": [],
   "source": [
    "fig = px.scatter(df, x=\"sepal_width\", y=\"sepal_length\", color=\"species\", facet_col=\"species\",\n",
    "                 title=\"Subplots Witin A Plotly Express Figure\")\n",
    "fig.show()"
   ]
  },
  {
   "cell_type": "markdown",
   "metadata": {},
   "source": [
    "### Méret és kinézet"
   ]
  },
  {
   "cell_type": "code",
   "execution_count": null,
   "metadata": {},
   "outputs": [],
   "source": [
    "'''Defaults in px'''\n",
    "px.defaults.template = \"ggplot2\"\n",
    "px.defaults.color_continuous_scale = px.colors.sequential.Blackbody\n",
    "px.defaults.width = 600\n",
    "px.defaults.height = 400\n",
    "\n",
    "df = px.data.iris()\n",
    "fig = px.scatter(df, x=\"sepal_width\", y=\"sepal_length\", color=\"sepal_length\")\n",
    "fig.show()"
   ]
  },
  {
   "cell_type": "code",
   "execution_count": null,
   "metadata": {},
   "outputs": [],
   "source": []
  }
 ],
 "metadata": {
  "kernelspec": {
   "display_name": "Python 3",
   "language": "python",
   "name": "python3"
  },
  "language_info": {
   "codemirror_mode": {
    "name": "ipython",
    "version": 3
   },
   "file_extension": ".py",
   "mimetype": "text/x-python",
   "name": "python",
   "nbconvert_exporter": "python",
   "pygments_lexer": "ipython3",
   "version": "3.7.2"
  }
 },
 "nbformat": 4,
 "nbformat_minor": 4
}
